{
    "nbformat_minor": 1, 
    "cells": [
        {
            "source": "# Explore Denver Neighborhoods for Rental Property Investment\n", 
            "cell_type": "markdown", 
            "metadata": {
                "collapsed": true
            }
        }, 
        {
            "source": "### Introduction", 
            "cell_type": "markdown", 
            "metadata": {}
        }, 
        {
            "source": "This project plans to explore and analyze the major neighborhoods in Denver county, Colorado. The goal is to identify the top choices of neighborhoods in Denver to either live in or invest in.\n\nThe city and county of Denver is the capital and the most populous municipality of Colorado. It has a population of over 700,000 (2018 est.), or approximately 4,520 per square mile. Ranked the 18th out of the 172 combined statistical areas and the 14th in population growth since 2010, Denver is among the biggest and the fastest growing areas in mid-west US. Denver has also been listed as the 3rd best place to live in US by the U.S News and World Report. Many reasons make Denver an attractive place for living, such as the fast growing economy, abundant outdoor activities, well-balanced life style, as well as the proximity to the scenic Rocky Mountain.\n\nFor the reasons mentioned above and many more, real estate industry has been going through quick and sustainable growth during the last several years. Denver property market has been attracting institutional and individual investors from nationwide.  Per research by ATTOM Data Solutions, medium home price in Denver-Aurora-Lakewood MSA achieved 80% increase since the last recession (Dec. 2007), the highest  among all MSA as of July 2019.\n\nAnalysis in this project were based on publicly available statistical data, including demographics, crime rates, property value index, and rental economics. This analysis intends to provide insights to the residents and the investors who are new to Denver, and to help them in their choice of location.\n", 
            "cell_type": "markdown", 
            "metadata": {}
        }
    ], 
    "metadata": {
        "kernelspec": {
            "display_name": "Python 3.6", 
            "name": "python3", 
            "language": "python"
        }, 
        "language_info": {
            "mimetype": "text/x-python", 
            "nbconvert_exporter": "python", 
            "version": "3.6.8", 
            "name": "python", 
            "file_extension": ".py", 
            "pygments_lexer": "ipython3", 
            "codemirror_mode": {
                "version": 3, 
                "name": "ipython"
            }
        }
    }, 
    "nbformat": 4
}