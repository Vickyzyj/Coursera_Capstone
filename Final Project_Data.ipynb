{
    "nbformat_minor": 1, 
    "cells": [
        {
            "source": "# Explore Denver Neighborhoods for Rental Property Investment", 
            "cell_type": "markdown", 
            "metadata": {
                "collapsed": true
            }
        }, 
        {
            "source": "### Data", 
            "cell_type": "markdown", 
            "metadata": {}
        }, 
        {
            "source": "The City and County of Denver contains a total of 78 neighborhoods. Data in this project comprises the following:\n\n* **Demographic Data:**\n\nData came from the American Community Survey 2011-2015 by Census Bureau. Data was collected from the Open Data Catalogue of the City and County of Denver in the form of csv files. Major metrics include medium household income, percent poverty, education level, and etc.\n\n* **Crime Data:**\n\nCrime data were scraped from the Denver Post website, and was as of July 2019. Statistics contained detailed crime type information, and were grouped into the property crime and the violence crime categories in the analysis.\n\n* **Rental Economics:**\n\nData came from the American Community Survey 2011-2015 by Census Bureau. Data was collected from the Open Data Catalogue of the City and County of Denver in the form of csv files. Major metrics include medium home value, contract rent, vacancy, rental units percentage, and etc.\n\n* **Home Value Index:**\n\nMedian home price by month by neighborhood was collected through Quandl. The information was provided by the real estate database company Zillow. After cleaning up, data was available for 77 out of the 78 neighborhoods in Denver, for the period from April 1996 till July 2019.\n\n* **Attractions and Points of Interest:**\n\nInformation on major venues around the target neighborhoods were provided by FourSquare. The radius was defined as 1km within the target neighborhoods. Key metrics collected included the venue category, address, ratings, and the number of \u2018likes\u2019.\n", 
            "cell_type": "markdown", 
            "metadata": {}
        }
    ], 
    "metadata": {
        "kernelspec": {
            "display_name": "Python 3.6", 
            "name": "python3", 
            "language": "python"
        }, 
        "language_info": {
            "mimetype": "text/x-python", 
            "nbconvert_exporter": "python", 
            "version": "3.6.8", 
            "name": "python", 
            "file_extension": ".py", 
            "pygments_lexer": "ipython3", 
            "codemirror_mode": {
                "version": 3, 
                "name": "ipython"
            }
        }
    }, 
    "nbformat": 4
}